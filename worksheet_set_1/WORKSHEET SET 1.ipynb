{
 "cells": [
  {
   "cell_type": "markdown",
   "id": "373f491d",
   "metadata": {},
   "source": [
    "FACTORIAL"
   ]
  },
  {
   "cell_type": "code",
   "execution_count": 12,
   "id": "ec64ba51",
   "metadata": {},
   "outputs": [
    {
     "name": "stdout",
     "output_type": "stream",
     "text": [
      "Please enter the number :8\n",
      "Factorial of 8 is 40320\n"
     ]
    }
   ],
   "source": [
    "n= int(input('Please enter the number :'))\n",
    "fact = 1\n",
    "if n<0 :\n",
    "    print('Factorial of negative number does not exist')\n",
    "elif n==0:\n",
    "    print ('Factorial of 0 is 1')\n",
    "else :\n",
    "    for i in range(1, n+1):\n",
    "        fact=fact*i\n",
    "    print ('Factorial of %d is %d' %(n,fact))"
   ]
  },
  {
   "cell_type": "markdown",
   "id": "e7f77479",
   "metadata": {},
   "source": [
    "PRIME OR COMPOSITE"
   ]
  },
  {
   "cell_type": "code",
   "execution_count": 18,
   "id": "5fa090b3",
   "metadata": {},
   "outputs": [
    {
     "name": "stdout",
     "output_type": "stream",
     "text": [
      "Please enter a number:37\n",
      "37 is prime number\n"
     ]
    }
   ],
   "source": [
    "n= int(input('Please enter a number:'))\n",
    "if n == 0 or n==1 :\n",
    "    print(n,'is neither prime nor composite')\n",
    "else:\n",
    "    for i in range (2,n):\n",
    "        if(n%i)==0:\n",
    "            print(n,'is a composite number')\n",
    "            break\n",
    "    else:\n",
    "        print(n,'is prime number')    \n",
    "\n",
    "    "
   ]
  },
  {
   "cell_type": "markdown",
   "id": "4a0a3331",
   "metadata": {},
   "source": [
    "PALINDROME"
   ]
  },
  {
   "cell_type": "code",
   "execution_count": 21,
   "id": "be4f707c",
   "metadata": {},
   "outputs": [
    {
     "name": "stdout",
     "output_type": "stream",
     "text": [
      "Enter the string:hindi\n",
      "The given string is not Palindrome.\n"
     ]
    }
   ],
   "source": [
    "a= input('Enter the string:')\n",
    "b=a[::-1]\n",
    "if (a==b):\n",
    "    print ('The given string is Palindrome.')\n",
    "else:\n",
    "    print('The given string is not Palindrome.')"
   ]
  },
  {
   "cell_type": "markdown",
   "id": "d383b648",
   "metadata": {},
   "source": [
    "PYTHAGORAS THEOREM\n"
   ]
  },
  {
   "cell_type": "code",
   "execution_count": 1,
   "id": "c989839e",
   "metadata": {},
   "outputs": [],
   "source": [
    "# Used to find third side of a right-angled triangle when two sides are known.\n",
    "#h=hypotenuse, p=perpendicular and b=base."
   ]
  },
  {
   "cell_type": "code",
   "execution_count": 8,
   "id": "41db72a7",
   "metadata": {},
   "outputs": [
    {
     "name": "stdout",
     "output_type": "stream",
     "text": [
      "Hypotenuse= 5.0\n",
      "Perpendicular= 4.0\n",
      "Base= 3.0\n"
     ]
    }
   ],
   "source": [
    "from math import sqrt\n",
    "def pythagoras(b,p,h):\n",
    "    if b==str('x'):\n",
    "        Base= sqrt((h**2)-(p**2))\n",
    "        print('Base=',Base)\n",
    "    elif p==str('x'):\n",
    "        Perpendicular= sqrt((h**2)-(b**2))   \n",
    "        print('Perpendicular=',Perpendicular)\n",
    "    else:\n",
    "        Hypotenuse= sqrt((b**2)+(p**2))\n",
    "        print('Hypotenuse=',Hypotenuse)\n",
    "pythagoras(3,4,'x')    \n",
    "pythagoras(3,\"x\",5)\n",
    "pythagoras('x',4,5)"
   ]
  },
  {
   "cell_type": "markdown",
   "id": "ad6b3d58",
   "metadata": {},
   "source": [
    "FREQUENCY OF EACH CHARACTER IN STRING"
   ]
  },
  {
   "cell_type": "code",
   "execution_count": 10,
   "id": "eca08fba",
   "metadata": {},
   "outputs": [
    {
     "name": "stdout",
     "output_type": "stream",
     "text": [
      "Frequency of each character in string PYTHONWORKSHEET is:\n",
      " Counter({'T': 2, 'H': 2, 'O': 2, 'E': 2, 'P': 1, 'Y': 1, 'N': 1, 'W': 1, 'R': 1, 'K': 1, 'S': 1})\n"
     ]
    }
   ],
   "source": [
    "import collections\n",
    "from collections import Counter\n",
    "a= 'PYTHONWORKSHEET'\n",
    "b= Counter(a)\n",
    "print('Frequency of each character in string %s is:\\n' %(a), str(b))\n"
   ]
  },
  {
   "cell_type": "code",
   "execution_count": null,
   "id": "2bf9edf1",
   "metadata": {},
   "outputs": [],
   "source": []
  }
 ],
 "metadata": {
  "kernelspec": {
   "display_name": "Python 3",
   "language": "python",
   "name": "python3"
  },
  "language_info": {
   "codemirror_mode": {
    "name": "ipython",
    "version": 3
   },
   "file_extension": ".py",
   "mimetype": "text/x-python",
   "name": "python",
   "nbconvert_exporter": "python",
   "pygments_lexer": "ipython3",
   "version": "3.8.8"
  }
 },
 "nbformat": 4,
 "nbformat_minor": 5
}
